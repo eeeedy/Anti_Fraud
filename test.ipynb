{
 "cells": [
  {
   "cell_type": "code",
   "execution_count": null,
   "metadata": {},
   "outputs": [],
   "source": [
    "import json\n",
    "\n",
    "# 定义案件类别对应的字典\n",
    "category_mapping = {\n",
    "    \"冒充电商物流客服类\": 0,\n",
    "    \"贷款、代办信用卡类\": 1,\n",
    "    \"虚假网络投资理财类\": 2,\n",
    "    \"冒充领导、熟人类\": 3,\n",
    "    \"冒充公检法及政府机关类\": 4,\n",
    "    \"网络游戏产品虚假交易类\": 5,\n",
    "    \"刷单返利类\": 6,\n",
    "    \"其他类型诈骗\": 7,\n",
    "    \"虚假征信类\": 8,\n",
    "    \"冒充军警购物类诈骗\": 9,\n",
    "    \"虚假购物、服务类\": 10,\n",
    "    \"网黑案件\": 11,\n",
    "    \"网络婚恋、交友类（非虚假网络投资理财类）\": 12\n",
    "}\n",
    "\n",
    "# 读取JSON文件\n",
    "with open('antiscam/data/train.json', 'r') as file:\n",
    "    data = json.load(file)\n",
    "\n",
    "# 添加新的项\"案件编号\"\n",
    "for item in data:\n",
    "    category = item['案件类别']\n",
    "    item['大类编号'] = category_mapping.get(category)\n",
    "\n",
    "# 保存更新后的JSON文件\n",
    "with open('antiscam/data/data_updated.json', 'w') as file:\n",
    "    json.dump(data, file, ensure_ascii=False, indent=4)"
   ]
  },
  {
   "cell_type": "code",
   "execution_count": null,
   "metadata": {},
   "outputs": [],
   "source": []
  },
  {
   "cell_type": "code",
   "execution_count": 6,
   "metadata": {},
   "outputs": [],
   "source": [
    "import json\n",
    "\n",
    "# 读取更新后的JSON文件\n",
    "with open('antiscam/data/data_updated.json', 'r') as file:\n",
    "    data = json.load(file)\n",
    "\n",
    "# 根据案件编号排序\n",
    "sorted_data = sorted(data, key=lambda x: x['大类编号'])\n",
    "\n",
    "# 保存排序后的JSON文件\n",
    "with open('antiscam/data/data_sorted.json', 'w') as file:\n",
    "    json.dump(sorted_data, file, ensure_ascii=False, indent=4)\n"
   ]
  },
  {
   "cell_type": "code",
   "execution_count": 2,
   "metadata": {},
   "outputs": [],
   "source": [
    "import json\n",
    "import re\n",
    "\n",
    "with open('antiscam/data/new_table.json', 'r') as f:\n",
    "    data = json.load(f)\n",
    "\n",
    "with open('antiscam/data/new_table.txt', 'w') as f:\n",
    "    for item in data:\n",
    "        message = item[\"简要案情\"]\n",
    "        message = message.replace(\"年\", \"-\").replace(\"月\", \"-\").replace(\"日\", \"-\").replace(\"时\", \"-\").replace(\"分\", \" \").strip()\n",
    "        message = re.sub(\"\\s+\", \"\", message)\n",
    "\t\t# 2022年6月14日18时01分许 \"2022年6月7日\" \"2014年5月\"\n",
    "\t\t# [^\\u4e00-\\u9fa5]  除去字符\n",
    "        regex_list = [r\"(\\d{4}-\\d{1,2}-\\d{1,2}-\\d{1,2}-\\d{1,2})|(\\d{4}-\\d{1,2}-\\d{1,2})|(\\d{4}-\\d{1,2})\",\n",
    "\t\t\t\t\tr\"[_.!+-=——,$%^，：“”（）:。？、~@#￥%……&*《》<>「」{}【】()/]\",\n",
    "\t\t\t\t\t]\n",
    "        for regex in regex_list:\n",
    "            pattern = re.compile(regex)\n",
    "            message = re.sub(pattern,'',message)\n",
    "        f.write(message + '\\t' + str(item['大类编号']) + '\\n')"
   ]
  },
  {
   "cell_type": "code",
   "execution_count": 5,
   "metadata": {},
   "outputs": [
    {
     "name": "stderr",
     "output_type": "stream",
     "text": [
      "Building prefix dict from the default dictionary ...\n",
      "Dumping model to file cache C:\\Users\\97854\\AppData\\Local\\Temp\\jieba.cache\n",
      "Loading model cost 0.471 seconds.\n",
      "Prefix dict has been built successfully.\n"
     ]
    }
   ],
   "source": [
    "import jieba\n",
    "\n",
    "\n",
    "# 读取停用词列表\n",
    "def get_stopword_list(file):\n",
    "    with open(file, 'r', encoding='utf-8') as f:    # \n",
    "        stopword_list = [word.strip('\\n') for word in f.readlines()]\n",
    "    return stopword_list\n",
    "\n",
    "\n",
    "# 分词 然后清除停用词语\n",
    "def clean_stopword(str, stopword_list):\n",
    "    result = ''\n",
    "    word_list = jieba.lcut(str)   # 分词后返回一个列表  jieba.cut(）   返回的是一个迭代器\n",
    "    for w in word_list:\n",
    "        if w not in stopword_list:\n",
    "            result += w\n",
    "    return result\n",
    "\n",
    "\n",
    "if __name__ == '__main__':\n",
    "    stopword_file = 'antiscam/data/hit_stopwords.txt'\n",
    "    process_file = 'antiscam/data/new_table.txt'\n",
    "    end_file = 'antiscam/data/mydatas.txt'\n",
    "    stopword_list = get_stopword_list(stopword_file)    # 获得停用词列表\n",
    "    end = open(end_file, \"w\")\n",
    "    with open(process_file, \"r\") as f:\n",
    "        sents = f.readlines()\n",
    "    for s in sents:\n",
    "        sl = s.strip().split(\"\\t\")\n",
    "        sl[0] = clean_stopword(sl[0], stopword_list)\n",
    "        end.write(sl[0]+'\\t'+sl[1]+'\\n')"
   ]
  },
  {
   "cell_type": "code",
   "execution_count": 7,
   "metadata": {},
   "outputs": [],
   "source": [
    "\n",
    "with open('antiscam/data/mydatas.txt', 'r') as f:\n",
    "    datas = f.readlines()\n",
    "mytrain = open('antiscam/data/train.txt', 'w')\n",
    "mydev = open('antiscam/data/dev.txt', 'w')\n",
    "mytest = open('antiscam/data/test.txt', 'w')\n",
    "id = 1\n",
    "for data in datas:\n",
    "    if id % 10 == 1:\n",
    "        mydev.write(data)\n",
    "    elif id % 10 == 2:\n",
    "        mytest.write(data)\n",
    "    else:\n",
    "        mytrain.write(data)\n",
    "    id += 1\n"
   ]
  },
  {
   "cell_type": "code",
   "execution_count": 8,
   "metadata": {},
   "outputs": [],
   "source": [
    "import random\n",
    "out = open(\"antiscam/data/train0.txt\",'w')\n",
    "lines=[]\n",
    "with open(\"antiscam/data/train.txt\", 'r') as infile:\n",
    "    for line in infile:\n",
    "        lines.append(line)\n",
    "    random.shuffle(lines)\n",
    "for line in lines:\n",
    "    out.write(line) "
   ]
  },
  {
   "cell_type": "code",
   "execution_count": null,
   "metadata": {},
   "outputs": [],
   "source": []
  }
 ],
 "metadata": {
  "kernelspec": {
   "display_name": "base",
   "language": "python",
   "name": "python3"
  },
  "language_info": {
   "codemirror_mode": {
    "name": "ipython",
    "version": 3
   },
   "file_extension": ".py",
   "mimetype": "text/x-python",
   "name": "python",
   "nbconvert_exporter": "python",
   "pygments_lexer": "ipython3",
   "version": "3.11.3"
  },
  "orig_nbformat": 4
 },
 "nbformat": 4,
 "nbformat_minor": 2
}
